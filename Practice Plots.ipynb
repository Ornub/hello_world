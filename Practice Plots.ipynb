{
 "cells": [
  {
   "cell_type": "code",
   "execution_count": 1,
   "metadata": {},
   "outputs": [],
   "source": [
    "# Let's begin by importing what we'll need (You'll probably be copying and pasting this a lot)\n",
    "\n",
    "# The normal imports\n",
    "import numpy as np\n",
    "from numpy.random import randn\n",
    "import pandas as pd\n",
    "\n",
    "# Import the stats librayr from numpy\n",
    "from scipy import stats\n",
    "\n",
    "# These are the plotting modules adn libraries we'll use:\n",
    "import matplotlib as mpl\n",
    "import matplotlib.pyplot as plt\n",
    "import seaborn as sns\n",
    "\n",
    "# Command so that plots appear in the iPython Notebook\n",
    "%matplotlib inline"
   ]
  },
  {
   "cell_type": "code",
   "execution_count": 2,
   "metadata": {},
   "outputs": [
    {
     "data": {
      "text/plain": [
       "(array([1., 0., 0., 0., 0., 0., 0., 0., 0., 0., 0., 0., 1., 0., 0., 0., 0.,\n",
       "        0., 1., 0., 1., 2., 1., 1., 0., 0., 2., 1., 0., 0., 2., 1., 1., 2.,\n",
       "        2., 1., 2., 2., 3., 1., 1., 3., 0., 2., 2., 2., 1., 3., 1., 2., 1.,\n",
       "        1., 1., 0., 3., 3., 5., 2., 4., 7., 1., 4., 2., 1., 0., 1., 1., 2.,\n",
       "        0., 3., 0., 0., 1., 0., 0., 1., 1., 0., 2., 0., 2., 0., 0., 0., 0.,\n",
       "        0., 0., 1., 1., 0., 0., 0., 0., 0., 2., 0., 0., 0., 0., 2.]),\n",
       " array([-2.30817485, -2.26350751, -2.21884016, -2.17417282, -2.12950547,\n",
       "        -2.08483812, -2.04017078, -1.99550343, -1.95083608, -1.90616874,\n",
       "        -1.86150139, -1.81683405, -1.7721667 , -1.72749935, -1.68283201,\n",
       "        -1.63816466, -1.59349731, -1.54882997, -1.50416262, -1.45949528,\n",
       "        -1.41482793, -1.37016058, -1.32549324, -1.28082589, -1.23615854,\n",
       "        -1.1914912 , -1.14682385, -1.10215651, -1.05748916, -1.01282181,\n",
       "        -0.96815447, -0.92348712, -0.87881977, -0.83415243, -0.78948508,\n",
       "        -0.74481774, -0.70015039, -0.65548304, -0.6108157 , -0.56614835,\n",
       "        -0.521481  , -0.47681366, -0.43214631, -0.38747897, -0.34281162,\n",
       "        -0.29814427, -0.25347693, -0.20880958, -0.16414223, -0.11947489,\n",
       "        -0.07480754, -0.0301402 ,  0.01452715,  0.0591945 ,  0.10386184,\n",
       "         0.14852919,  0.19319653,  0.23786388,  0.28253123,  0.32719857,\n",
       "         0.37186592,  0.41653327,  0.46120061,  0.50586796,  0.5505353 ,\n",
       "         0.59520265,  0.63987   ,  0.68453734,  0.72920469,  0.77387204,\n",
       "         0.81853938,  0.86320673,  0.90787407,  0.95254142,  0.99720877,\n",
       "         1.04187611,  1.08654346,  1.13121081,  1.17587815,  1.2205455 ,\n",
       "         1.26521284,  1.30988019,  1.35454754,  1.39921488,  1.44388223,\n",
       "         1.48854958,  1.53321692,  1.57788427,  1.62255161,  1.66721896,\n",
       "         1.71188631,  1.75655365,  1.801221  ,  1.84588835,  1.89055569,\n",
       "         1.93522304,  1.97989038,  2.02455773,  2.06922508,  2.11389242,\n",
       "         2.15855977]),\n",
       " <a list of 100 Patch objects>)"
      ]
     },
     "execution_count": 2,
     "metadata": {},
     "output_type": "execute_result"
    },
    {
     "data": {
      "image/png": "[encoded data removed]",
      "text/plain": [
       "<Figure size 432x288 with 1 Axes>"
      ]
     },
     "metadata": {
      "needs_background": "light"
     },
     "output_type": "display_data"
    }
   ],
   "source": [
    "#Create a random normal-dist dataset\n",
    "dataset1 = randn(100)\n",
    "\n",
    "#Plot a histogram of the dataset, note bins=10 by default\n",
    "plt.hist(dataset1, bins= 100)"
   ]
  },
  {
   "cell_type": "code",
   "execution_count": 3,
   "metadata": {},
   "outputs": [
    {
     "data": {
      "text/plain": [
       "(array([ 4.,  2., 10.,  6.,  8., 19., 13.,  7.,  6.,  5.]),\n",
       " array([-2.35080948, -1.91428995, -1.47777043, -1.04125091, -0.60473139,\n",
       "        -0.16821187,  0.26830766,  0.70482718,  1.1413467 ,  1.57786622,\n",
       "         2.01438574]),\n",
       " <a list of 10 Patch objects>)"
      ]
     },
     "execution_count": 3,
     "metadata": {},
     "output_type": "execute_result"
    },
    {
     "data": {
      "image/png": "[encoded data removed]",
      "text/plain": [
       "<Figure size 432x288 with 1 Axes>"
      ]
     },
     "metadata": {
      "needs_background": "light"
     },
     "output_type": "display_data"
    }
   ],
   "source": [
    "# Lets make another dataset\n",
    "dataset2 = randn(80)\n",
    "\n",
    "#Plot\n",
    "plt.hist(dataset2,color='indianred')"
   ]
  },
  {
   "cell_type": "code",
   "execution_count": 4,
   "metadata": {},
   "outputs": [
    {
     "data": {
      "text/plain": [
       "(array([ 2.,  2.,  1.,  1.,  3.,  7.,  1.,  5.,  6.,  2., 12.,  7.,  8.,\n",
       "         5.,  4.,  3.,  3.,  3.,  1.,  4.]),\n",
       " array([-2.35080948, -2.13254972, -1.91428995, -1.69603019, -1.47777043,\n",
       "        -1.25951067, -1.04125091, -0.82299115, -0.60473139, -0.38647163,\n",
       "        -0.16821187,  0.05004789,  0.26830766,  0.48656742,  0.70482718,\n",
       "         0.92308694,  1.1413467 ,  1.35960646,  1.57786622,  1.79612598,\n",
       "         2.01438574]),\n",
       " <a list of 20 Patch objects>)"
      ]
     },
     "execution_count": 4,
     "metadata": {},
     "output_type": "execute_result"
    },
    {
     "data": {
      "image/png": "[encoded data removed]",
      "text/plain": [
       "<Figure size 432x288 with 1 Axes>"
      ]
     },
     "metadata": {
      "needs_background": "light"
     },
     "output_type": "display_data"
    }
   ],
   "source": [
    "# We can use normed to plot on same plot\n",
    "\n",
    "# Set normed=True for the plots to be normalized in order to comapre data sets with different number of observations\n",
    "# Set alpha=0.5 for transperancy\n",
    "\n",
    "plt.hist(dataset1,color='indianred',alpha=0.5,bins=20)\n",
    "plt.hist(dataset2,alpha=0.5,bins=20)"
   ]
  },
  {
   "cell_type": "code",
   "execution_count": 5,
   "metadata": {},
   "outputs": [
    {
     "name": "stderr",
     "output_type": "stream",
     "text": [
      "C:\\Users\\Neel\\Anaconda3\\lib\\site-packages\\matplotlib\\axes\\_axes.py:6521: MatplotlibDeprecationWarning: \n",
      "The 'normed' kwarg was deprecated in Matplotlib 2.1 and will be removed in 3.1. Use 'density' instead.\n",
      "  alternative=\"'density'\", removal=\"3.1\")\n",
      "C:\\Users\\Neel\\Anaconda3\\lib\\site-packages\\matplotlib\\axes\\_axes.py:6521: MatplotlibDeprecationWarning: \n",
      "The 'normed' kwarg was deprecated in Matplotlib 2.1 and will be removed in 3.1. Use 'density' instead.\n",
      "  alternative=\"'density'\", removal=\"3.1\")\n"
     ]
    },
    {
     "data": {
      "text/plain": [
       "(array([0.11454241, 0.11454241, 0.05727121, 0.05727121, 0.17181362,\n",
       "        0.40089845, 0.05727121, 0.28635604, 0.34362724, 0.11454241,\n",
       "        0.68725449, 0.40089845, 0.45816966, 0.28635604, 0.22908483,\n",
       "        0.17181362, 0.17181362, 0.17181362, 0.05727121, 0.22908483]),\n",
       " array([-2.35080948, -2.13254972, -1.91428995, -1.69603019, -1.47777043,\n",
       "        -1.25951067, -1.04125091, -0.82299115, -0.60473139, -0.38647163,\n",
       "        -0.16821187,  0.05004789,  0.26830766,  0.48656742,  0.70482718,\n",
       "         0.92308694,  1.1413467 ,  1.35960646,  1.57786622,  1.79612598,\n",
       "         2.01438574]),\n",
       " <a list of 20 Patch objects>)"
      ]
     },
     "execution_count": 5,
     "metadata": {},
     "output_type": "execute_result"
    },
    {
     "data": {
      "image/png": "[encoded data removed]",
      "text/plain": [
       "<Figure size 432x288 with 1 Axes>"
      ]
     },
     "metadata": {
      "needs_background": "light"
     },
     "output_type": "display_data"
    }
   ],
   "source": [
    "# We can use normed to plot on same plot\n",
    "\n",
    "# Set normed=True for the plots to be normalized in order to comapre data sets with different number of observations\n",
    "# Set alpha=0.5 for transperancy\n",
    "\n",
    "plt.hist(dataset1,normed=True,color='indianred',alpha=0.5,bins=20)\n",
    "plt.hist(dataset2,normed=True,alpha=0.5,bins=20)"
   ]
  },
  {
   "cell_type": "code",
   "execution_count": 6,
   "metadata": {},
   "outputs": [
    {
     "name": "stderr",
     "output_type": "stream",
     "text": [
      "C:\\Users\\Neel\\Anaconda3\\lib\\site-packages\\scipy\\stats\\stats.py:1713: FutureWarning: Using a non-tuple sequence for multidimensional indexing is deprecated; use `arr[tuple(seq)]` instead of `arr[seq]`. In the future this will be interpreted as an array index, `arr[np.array(seq)]`, which will result either in an error or a different result.\n",
      "  return np.add.reduce(sorted[indexer] * weights, axis=axis) / sumval\n"
     ]
    },
    {
     "data": {
      "text/plain": [
       "<seaborn.axisgrid.JointGrid at 0x16d83d06ba8>"
      ]
     },
     "execution_count": 6,
     "metadata": {},
     "output_type": "execute_result"
    },
    {
     "data": {
      "image/png": "[encoded data removed]",
      "text/plain": [
       "<Figure size 432x432 with 3 Axes>"
      ]
     },
     "metadata": {
      "needs_background": "light"
     },
     "output_type": "display_data"
    }
   ],
   "source": [
    "# Make two more random normal dist data sets\n",
    "data1 = randn(1000)\n",
    "data2 = randn(1000)\n",
    "\n",
    "#Can represent joint distributions using joint plots\n",
    "sns.jointplot(data1,data2)"
   ]
  },
  {
   "cell_type": "code",
   "execution_count": 7,
   "metadata": {},
   "outputs": [
    {
     "data": {
      "text/plain": [
       "<seaborn.axisgrid.JointGrid at 0x16d85667470>"
      ]
     },
     "execution_count": 7,
     "metadata": {},
     "output_type": "execute_result"
    },
    {
     "data": {
      "image/png": "[encoded data removed]",
      "text/plain": [
       "<Figure size 432x432 with 3 Axes>"
      ]
     },
     "metadata": {
      "needs_background": "light"
     },
     "output_type": "display_data"
    }
   ],
   "source": [
    "# Can also use hex bins for a more concise picture\n",
    "sns.jointplot(data1,data2,kind='hex')"
   ]
  },
  {
   "cell_type": "markdown",
   "metadata": {},
   "source": [
    "# Kernel Estimation Plots"
   ]
  },
  {
   "cell_type": "code",
   "execution_count": 8,
   "metadata": {},
   "outputs": [
    {
     "data": {
      "text/plain": [
       "(0, 1)"
      ]
     },
     "execution_count": 8,
     "metadata": {},
     "output_type": "execute_result"
    },
    {
     "data": {
      "image/png": "[encoded data removed]",
      "text/plain": [
       "<Figure size 432x288 with 1 Axes>"
      ]
     },
     "metadata": {
      "needs_background": "light"
     },
     "output_type": "display_data"
    }
   ],
   "source": [
    "# Let's start off with a carpet/rug plot\n",
    "# A rug plot simpot puts ticks wherever a value occured\n",
    "\n",
    "#Create dataset\n",
    "dataset = randn(25)\n",
    "#Create rugplot\n",
    "sns.rugplot(dataset)\n",
    "#Set y-axis limit\n",
    "plt.ylim(0,1)"
   ]
  },
  {
   "cell_type": "code",
   "execution_count": 9,
   "metadata": {},
   "outputs": [
    {
     "data": {
      "text/plain": [
       "<matplotlib.axes._subplots.AxesSubplot at 0x16d858527f0>"
      ]
     },
     "execution_count": 9,
     "metadata": {},
     "output_type": "execute_result"
    },
    {
     "data": {
      "image/png": "[encoded data removed]",
      "text/plain": [
       "<Figure size 432x288 with 1 Axes>"
      ]
     },
     "metadata": {
      "needs_background": "light"
     },
     "output_type": "display_data"
    }
   ],
   "source": [
    "# Plot a histogram on top of \n",
    "plt.hist(dataset,alpha=0.3)\n",
    "sns.rugplot(dataset)"
   ]
  },
  {
   "cell_type": "markdown",
   "metadata": {},
   "source": [
    "The histogram sets up 10 bins and then just count how many ticks appeared in each bin, setting the height of each bar\n",
    "\n",
    "The kernel density plot will represent each tick mark with a gaussian basis function. Let's see how we would do this manually"
   ]
  },
  {
   "cell_type": "code",
   "execution_count": 10,
   "metadata": {},
   "outputs": [
    {
     "data": {
      "text/plain": [
       "(0, 1)"
      ]
     },
     "execution_count": 10,
     "metadata": {},
     "output_type": "execute_result"
    },
    {
     "data": {
      "image/png": "[encoded data removed]",
      "text/plain": [
       "<Figure size 432x288 with 1 Axes>"
      ]
     },
     "metadata": {
      "needs_background": "light"
     },
     "output_type": "display_data"
    }
   ],
   "source": [
    "# Create another rugplot\n",
    "sns.rugplot(dataset);\n",
    "\n",
    "# Set up the x-axis for the plot\n",
    "x_min = dataset.min() - 2\n",
    "x_max = dataset.max() + 2\n",
    "\n",
    "# 100 equally spaced points from x_min to x_max\n",
    "x_axis = np.linspace(x_min,x_max,100)\n",
    "\n",
    "# Set up the bandwidth, for info on this:\n",
    "url = 'http://en.wikipedia.org/wiki/Kernel_density_estimation#Practical_estimation_of_the_bandwidth'\n",
    "\n",
    "bandwidth = ((4*dataset.std()**5)/(3*len(dataset)))**.2\n",
    "\n",
    "\n",
    "# Create an empty kernel list\n",
    "kernel_list = []\n",
    "\n",
    "# Plot each basis function\n",
    "for data_point in dataset:\n",
    "    \n",
    "    # Create a kernel for each point and append to list\n",
    "    kernel = stats.norm(data_point,bandwidth).pdf(x_axis)\n",
    "    kernel_list.append(kernel)\n",
    "    \n",
    "    #Scale for plotting\n",
    "    kernel = kernel / kernel.max()\n",
    "    kernel = kernel * .4\n",
    "    plt.plot(x_axis,kernel,color = 'grey',alpha=0.5)\n",
    "\n",
    "plt.ylim(0,1)"
   ]
  },
  {
   "cell_type": "code",
   "execution_count": 11,
   "metadata": {},
   "outputs": [
    {
     "ename": "ValueError",
     "evalue": "x and y must have same first dimension, but have shapes (100,) and (1,)",
     "output_type": "error",
     "traceback": [
      "\u001b[1;31m---------------------------------------------------------------------------\u001b[0m",
      "\u001b[1;31mValueError\u001b[0m                                Traceback (most recent call last)",
      "\u001b[1;32m<ipython-input-11-a29783c8720c>\u001b[0m in \u001b[0;36m<module>\u001b[1;34m\u001b[0m\n\u001b[0;32m      7\u001b[0m \u001b[1;33m\u001b[0m\u001b[0m\n\u001b[0;32m      8\u001b[0m \u001b[1;31m# Plot figure\u001b[0m\u001b[1;33m\u001b[0m\u001b[1;33m\u001b[0m\u001b[1;33m\u001b[0m\u001b[0m\n\u001b[1;32m----> 9\u001b[1;33m \u001b[0mfig\u001b[0m \u001b[1;33m=\u001b[0m \u001b[0mplt\u001b[0m\u001b[1;33m.\u001b[0m\u001b[0mplot\u001b[0m\u001b[1;33m(\u001b[0m\u001b[0mx_axis\u001b[0m\u001b[1;33m,\u001b[0m\u001b[0msum_of_kde\u001b[0m\u001b[1;33m,\u001b[0m\u001b[0mcolor\u001b[0m\u001b[1;33m=\u001b[0m\u001b[1;34m'indianred'\u001b[0m\u001b[1;33m)\u001b[0m\u001b[1;33m\u001b[0m\u001b[1;33m\u001b[0m\u001b[0m\n\u001b[0m\u001b[0;32m     10\u001b[0m \u001b[1;33m\u001b[0m\u001b[0m\n\u001b[0;32m     11\u001b[0m \u001b[1;31m# Add the initial rugplot\u001b[0m\u001b[1;33m\u001b[0m\u001b[1;33m\u001b[0m\u001b[1;33m\u001b[0m\u001b[0m\n",
      "\u001b[1;32m~\\Anaconda3\\lib\\site-packages\\matplotlib\\pyplot.py\u001b[0m in \u001b[0;36mplot\u001b[1;34m(scalex, scaley, data, *args, **kwargs)\u001b[0m\n\u001b[0;32m   2811\u001b[0m     return gca().plot(\n\u001b[0;32m   2812\u001b[0m         *args, scalex=scalex, scaley=scaley, **({\"data\": data} if data\n\u001b[1;32m-> 2813\u001b[1;33m         is not None else {}), **kwargs)\n\u001b[0m\u001b[0;32m   2814\u001b[0m \u001b[1;33m\u001b[0m\u001b[0m\n\u001b[0;32m   2815\u001b[0m \u001b[1;33m\u001b[0m\u001b[0m\n",
      "\u001b[1;32m~\\Anaconda3\\lib\\site-packages\\matplotlib\\__init__.py\u001b[0m in \u001b[0;36minner\u001b[1;34m(ax, data, *args, **kwargs)\u001b[0m\n\u001b[0;32m   1808\u001b[0m                         \u001b[1;34m\"the Matplotlib list!)\"\u001b[0m \u001b[1;33m%\u001b[0m \u001b[1;33m(\u001b[0m\u001b[0mlabel_namer\u001b[0m\u001b[1;33m,\u001b[0m \u001b[0mfunc\u001b[0m\u001b[1;33m.\u001b[0m\u001b[0m__name__\u001b[0m\u001b[1;33m)\u001b[0m\u001b[1;33m,\u001b[0m\u001b[1;33m\u001b[0m\u001b[1;33m\u001b[0m\u001b[0m\n\u001b[0;32m   1809\u001b[0m                         RuntimeWarning, stacklevel=2)\n\u001b[1;32m-> 1810\u001b[1;33m             \u001b[1;32mreturn\u001b[0m \u001b[0mfunc\u001b[0m\u001b[1;33m(\u001b[0m\u001b[0max\u001b[0m\u001b[1;33m,\u001b[0m \u001b[1;33m*\u001b[0m\u001b[0margs\u001b[0m\u001b[1;33m,\u001b[0m \u001b[1;33m**\u001b[0m\u001b[0mkwargs\u001b[0m\u001b[1;33m)\u001b[0m\u001b[1;33m\u001b[0m\u001b[1;33m\u001b[0m\u001b[0m\n\u001b[0m\u001b[0;32m   1811\u001b[0m \u001b[1;33m\u001b[0m\u001b[0m\n\u001b[0;32m   1812\u001b[0m         inner.__doc__ = _add_data_doc(inner.__doc__,\n",
      "\u001b[1;32m~\\Anaconda3\\lib\\site-packages\\matplotlib\\axes\\_axes.py\u001b[0m in \u001b[0;36mplot\u001b[1;34m(self, scalex, scaley, *args, **kwargs)\u001b[0m\n\u001b[0;32m   1609\u001b[0m         \u001b[0mkwargs\u001b[0m \u001b[1;33m=\u001b[0m \u001b[0mcbook\u001b[0m\u001b[1;33m.\u001b[0m\u001b[0mnormalize_kwargs\u001b[0m\u001b[1;33m(\u001b[0m\u001b[0mkwargs\u001b[0m\u001b[1;33m,\u001b[0m \u001b[0mmlines\u001b[0m\u001b[1;33m.\u001b[0m\u001b[0mLine2D\u001b[0m\u001b[1;33m.\u001b[0m\u001b[0m_alias_map\u001b[0m\u001b[1;33m)\u001b[0m\u001b[1;33m\u001b[0m\u001b[1;33m\u001b[0m\u001b[0m\n\u001b[0;32m   1610\u001b[0m \u001b[1;33m\u001b[0m\u001b[0m\n\u001b[1;32m-> 1611\u001b[1;33m         \u001b[1;32mfor\u001b[0m \u001b[0mline\u001b[0m \u001b[1;32min\u001b[0m \u001b[0mself\u001b[0m\u001b[1;33m.\u001b[0m\u001b[0m_get_lines\u001b[0m\u001b[1;33m(\u001b[0m\u001b[1;33m*\u001b[0m\u001b[0margs\u001b[0m\u001b[1;33m,\u001b[0m \u001b[1;33m**\u001b[0m\u001b[0mkwargs\u001b[0m\u001b[1;33m)\u001b[0m\u001b[1;33m:\u001b[0m\u001b[1;33m\u001b[0m\u001b[1;33m\u001b[0m\u001b[0m\n\u001b[0m\u001b[0;32m   1612\u001b[0m             \u001b[0mself\u001b[0m\u001b[1;33m.\u001b[0m\u001b[0madd_line\u001b[0m\u001b[1;33m(\u001b[0m\u001b[0mline\u001b[0m\u001b[1;33m)\u001b[0m\u001b[1;33m\u001b[0m\u001b[1;33m\u001b[0m\u001b[0m\n\u001b[0;32m   1613\u001b[0m             \u001b[0mlines\u001b[0m\u001b[1;33m.\u001b[0m\u001b[0mappend\u001b[0m\u001b[1;33m(\u001b[0m\u001b[0mline\u001b[0m\u001b[1;33m)\u001b[0m\u001b[1;33m\u001b[0m\u001b[1;33m\u001b[0m\u001b[0m\n",
      "\u001b[1;32m~\\Anaconda3\\lib\\site-packages\\matplotlib\\axes\\_base.py\u001b[0m in \u001b[0;36m_grab_next_args\u001b[1;34m(self, *args, **kwargs)\u001b[0m\n\u001b[0;32m    391\u001b[0m                 \u001b[0mthis\u001b[0m \u001b[1;33m+=\u001b[0m \u001b[0margs\u001b[0m\u001b[1;33m[\u001b[0m\u001b[1;36m0\u001b[0m\u001b[1;33m]\u001b[0m\u001b[1;33m,\u001b[0m\u001b[1;33m\u001b[0m\u001b[1;33m\u001b[0m\u001b[0m\n\u001b[0;32m    392\u001b[0m                 \u001b[0margs\u001b[0m \u001b[1;33m=\u001b[0m \u001b[0margs\u001b[0m\u001b[1;33m[\u001b[0m\u001b[1;36m1\u001b[0m\u001b[1;33m:\u001b[0m\u001b[1;33m]\u001b[0m\u001b[1;33m\u001b[0m\u001b[1;33m\u001b[0m\u001b[0m\n\u001b[1;32m--> 393\u001b[1;33m             \u001b[1;32myield\u001b[0m \u001b[1;32mfrom\u001b[0m \u001b[0mself\u001b[0m\u001b[1;33m.\u001b[0m\u001b[0m_plot_args\u001b[0m\u001b[1;33m(\u001b[0m\u001b[0mthis\u001b[0m\u001b[1;33m,\u001b[0m \u001b[0mkwargs\u001b[0m\u001b[1;33m)\u001b[0m\u001b[1;33m\u001b[0m\u001b[1;33m\u001b[0m\u001b[0m\n\u001b[0m\u001b[0;32m    394\u001b[0m \u001b[1;33m\u001b[0m\u001b[0m\n\u001b[0;32m    395\u001b[0m \u001b[1;33m\u001b[0m\u001b[0m\n",
      "\u001b[1;32m~\\Anaconda3\\lib\\site-packages\\matplotlib\\axes\\_base.py\u001b[0m in \u001b[0;36m_plot_args\u001b[1;34m(self, tup, kwargs)\u001b[0m\n\u001b[0;32m    368\u001b[0m             \u001b[0mx\u001b[0m\u001b[1;33m,\u001b[0m \u001b[0my\u001b[0m \u001b[1;33m=\u001b[0m \u001b[0mindex_of\u001b[0m\u001b[1;33m(\u001b[0m\u001b[0mtup\u001b[0m\u001b[1;33m[\u001b[0m\u001b[1;33m-\u001b[0m\u001b[1;36m1\u001b[0m\u001b[1;33m]\u001b[0m\u001b[1;33m)\u001b[0m\u001b[1;33m\u001b[0m\u001b[1;33m\u001b[0m\u001b[0m\n\u001b[0;32m    369\u001b[0m \u001b[1;33m\u001b[0m\u001b[0m\n\u001b[1;32m--> 370\u001b[1;33m         \u001b[0mx\u001b[0m\u001b[1;33m,\u001b[0m \u001b[0my\u001b[0m \u001b[1;33m=\u001b[0m \u001b[0mself\u001b[0m\u001b[1;33m.\u001b[0m\u001b[0m_xy_from_xy\u001b[0m\u001b[1;33m(\u001b[0m\u001b[0mx\u001b[0m\u001b[1;33m,\u001b[0m \u001b[0my\u001b[0m\u001b[1;33m)\u001b[0m\u001b[1;33m\u001b[0m\u001b[1;33m\u001b[0m\u001b[0m\n\u001b[0m\u001b[0;32m    371\u001b[0m \u001b[1;33m\u001b[0m\u001b[0m\n\u001b[0;32m    372\u001b[0m         \u001b[1;32mif\u001b[0m \u001b[0mself\u001b[0m\u001b[1;33m.\u001b[0m\u001b[0mcommand\u001b[0m \u001b[1;33m==\u001b[0m \u001b[1;34m'plot'\u001b[0m\u001b[1;33m:\u001b[0m\u001b[1;33m\u001b[0m\u001b[1;33m\u001b[0m\u001b[0m\n",
      "\u001b[1;32m~\\Anaconda3\\lib\\site-packages\\matplotlib\\axes\\_base.py\u001b[0m in \u001b[0;36m_xy_from_xy\u001b[1;34m(self, x, y)\u001b[0m\n\u001b[0;32m    229\u001b[0m         \u001b[1;32mif\u001b[0m \u001b[0mx\u001b[0m\u001b[1;33m.\u001b[0m\u001b[0mshape\u001b[0m\u001b[1;33m[\u001b[0m\u001b[1;36m0\u001b[0m\u001b[1;33m]\u001b[0m \u001b[1;33m!=\u001b[0m \u001b[0my\u001b[0m\u001b[1;33m.\u001b[0m\u001b[0mshape\u001b[0m\u001b[1;33m[\u001b[0m\u001b[1;36m0\u001b[0m\u001b[1;33m]\u001b[0m\u001b[1;33m:\u001b[0m\u001b[1;33m\u001b[0m\u001b[1;33m\u001b[0m\u001b[0m\n\u001b[0;32m    230\u001b[0m             raise ValueError(\"x and y must have same first dimension, but \"\n\u001b[1;32m--> 231\u001b[1;33m                              \"have shapes {} and {}\".format(x.shape, y.shape))\n\u001b[0m\u001b[0;32m    232\u001b[0m         \u001b[1;32mif\u001b[0m \u001b[0mx\u001b[0m\u001b[1;33m.\u001b[0m\u001b[0mndim\u001b[0m \u001b[1;33m>\u001b[0m \u001b[1;36m2\u001b[0m \u001b[1;32mor\u001b[0m \u001b[0my\u001b[0m\u001b[1;33m.\u001b[0m\u001b[0mndim\u001b[0m \u001b[1;33m>\u001b[0m \u001b[1;36m2\u001b[0m\u001b[1;33m:\u001b[0m\u001b[1;33m\u001b[0m\u001b[1;33m\u001b[0m\u001b[0m\n\u001b[0;32m    233\u001b[0m             raise ValueError(\"x and y can be no greater than 2-D, but have \"\n",
      "\u001b[1;31mValueError\u001b[0m: x and y must have same first dimension, but have shapes (100,) and (1,)"
     ]
    },
    {
     "data": {
      "image/png": "[encoded data removed]",
      "text/plain": [
       "<Figure size 432x288 with 1 Axes>"
      ]
     },
     "metadata": {
      "needs_background": "light"
     },
     "output_type": "display_data"
    }
   ],
   "source": [
    "# To get the kde plot we can sum these basis functions.\n",
    "\n",
    "\n",
    "\n",
    "# Plot the sum of the basis function\n",
    "sum_of_kde = np.sum(kernel,axis=0)\n",
    "\n",
    "# Plot figure\n",
    "fig = plt.plot(x_axis,sum_of_kde,color='indianred')\n",
    "\n",
    "# Add the initial rugplot\n",
    "sns.rugplot(dataset,c = 'indianred')\n",
    "\n",
    "# Get rid of y-tick marks\n",
    "plt.yticks([])\n",
    "\n",
    "# Set title\n",
    "plt.suptitle(\"Sum of the Basis Functions\")"
   ]
  },
  {
   "cell_type": "code",
   "execution_count": null,
   "metadata": {},
   "outputs": [],
   "source": [
    "# Now we can see how to do it in one step with seaborn! Awesome!\n",
    "sns.kdeplot(dataset)"
   ]
  },
  {
   "cell_type": "code",
   "execution_count": null,
   "metadata": {},
   "outputs": [],
   "source": [
    "# We can adjust the bandwidth of the sns kde to make the kde plot more or less sensitive to high frequency\n",
    "\n",
    "# Rugplot\n",
    "sns.rugplot(dataset,color='black')\n",
    "\n",
    "# Plot various bandwidths\n",
    "for bw in np.arange(0.5,2,0.25):\n",
    "    sns.kdeplot(dataset,bw=bw,lw=1.8,label=bw)"
   ]
  },
  {
   "cell_type": "code",
   "execution_count": null,
   "metadata": {},
   "outputs": [],
   "source": [
    "# We can also choose different kernels\n",
    "\n",
    "kernel_options = [\"biw\", \"cos\", \"epa\", \"gau\", \"tri\", \"triw\"]\n",
    "\n",
    "# More info on types\n",
    "url = 'http://en.wikipedia.org/wiki/Kernel_(statistics)'\n",
    "\n",
    "# Use label to set legend\n",
    "for kern in kernel_options:\n",
    "    sns.kdeplot(dataset,kernel=kern,label=kern)"
   ]
  },
  {
   "cell_type": "code",
   "execution_count": null,
   "metadata": {},
   "outputs": [],
   "source": [
    "# We can also shade if desired\n",
    "for kern in kernel_options:\n",
    "    sns.kdeplot(dataset,kernel=kern,label=kern,shade=True,alpha=0.2)"
   ]
  },
  {
   "cell_type": "code",
   "execution_count": null,
   "metadata": {},
   "outputs": [],
   "source": [
    "# For vertical axis, use the vertical keyword\n",
    "sns.kdeplot(dataset,vertical=True)"
   ]
  },
  {
   "cell_type": "code",
   "execution_count": null,
   "metadata": {},
   "outputs": [],
   "source": [
    "# Finally we can also use kde plot to create a cumulative distribution function (CDF) of the data\n",
    "\n",
    "# URL for info on CDF\n",
    "url = 'http://en.wikipedia.org/wiki/Cumulative_distribution_function'\n",
    "\n",
    "sns.kdeplot(dataset,cumulative=True)"
   ]
  },
  {
   "cell_type": "markdown",
   "metadata": {},
   "source": [
    "# Multivariate Density Estimation using kdeplot\n",
    "\n",
    "We can also use kdeplot for multidimensional data. Lets see how it works!"
   ]
  },
  {
   "cell_type": "code",
   "execution_count": null,
   "metadata": {},
   "outputs": [],
   "source": [
    "# Let's create a new dataset\n",
    "\n",
    "# Mean center of data\n",
    "mean = [0,0]\n",
    "\n",
    "# Diagonal covariance\n",
    "cov = [[1,0],[0,100]]\n",
    "\n",
    "# Create dataset using numpy\n",
    "dataset2 = np.random.multivariate_normal(mean,cov,1000)\n",
    "\n",
    "# Bring back our old friend pandas\n",
    "dframe = pd.DataFrame(dataset2,columns=['X','Y'])\n",
    "\n",
    "# Plot our dataframe\n",
    "sns.kdeplot(dframe)"
   ]
  },
  {
   "cell_type": "code",
   "execution_count": null,
   "metadata": {},
   "outputs": [],
   "source": [
    "# We could have also passed two vectors seperately, and shade\n",
    "sns.kdeplot(dframe.X,dframe.Y,shade=True)"
   ]
  },
  {
   "cell_type": "code",
   "execution_count": null,
   "metadata": {},
   "outputs": [],
   "source": [
    "# Can specify a particualr bandwidth\n",
    "sns.kdeplot(dframe,bw=1)"
   ]
  },
  {
   "cell_type": "code",
   "execution_count": null,
   "metadata": {},
   "outputs": [],
   "source": [
    "# Or just use silverman again\n",
    "sns.kdeplot(dframe,bw='silverman')"
   ]
  },
  {
   "cell_type": "code",
   "execution_count": null,
   "metadata": {},
   "outputs": [],
   "source": [
    "# We can also create a kde joint plot, simliar to the hexbin plots we saw before\n",
    "\n",
    "sns.jointplot('X','Y',dframe,kind='kde')"
   ]
  },
  {
   "cell_type": "markdown",
   "metadata": {},
   "source": [
    "# combining plots"
   ]
  },
  {
   "cell_type": "code",
   "execution_count": null,
   "metadata": {},
   "outputs": [],
   "source": [
    "# Create datset\n",
    "dataset = randn(100)\n",
    "\n",
    "# Use distplot for combining plots, by default a kde over a histogram is shown\n",
    "sns.distplot(dataset,bins=25)"
   ]
  },
  {
   "cell_type": "code",
   "execution_count": null,
   "metadata": {},
   "outputs": [],
   "source": [
    "# hist, rug, and kde are all input arguments to turn those plots on or off\n",
    "sns.distplot(dataset,rug=True,hist=False)"
   ]
  },
  {
   "cell_type": "code",
   "execution_count": null,
   "metadata": {},
   "outputs": [],
   "source": [
    "# TO control specific plots in distplot, use [plot]_kws argument with dictionaries.\n",
    "\n",
    "#Here's an example\n",
    "\n",
    "sns.distplot(dataset,bins=25,\n",
    "             kde_kws={'color':'indianred','label':'KDE PLOT'},\n",
    "             hist_kws={'color':'blue','label':\"HISTOGRAM\"})"
   ]
  },
  {
   "cell_type": "code",
   "execution_count": null,
   "metadata": {},
   "outputs": [],
   "source": [
    "# WE can also use pandas data objects for this\n",
    "\n",
    "from pandas import Series\n",
    "\n",
    "# Create Series form dataset\n",
    "ser1 = Series(dataset,name='My_DATA')"
   ]
  },
  {
   "cell_type": "code",
   "execution_count": null,
   "metadata": {},
   "outputs": [],
   "source": [
    "# Plot Series\n",
    "sns.distplot(ser1,bins=25)"
   ]
  },
  {
   "cell_type": "markdown",
   "metadata": {},
   "source": [
    "# Box and violin plots!"
   ]
  },
  {
   "cell_type": "code",
   "execution_count": null,
   "metadata": {},
   "outputs": [],
   "source": [
    "# Now we'll learn about box and violin plots\n",
    "url = 'http://en.wikipedia.org/wiki/Box_plot#mediaviewer/File:Boxplot_vs_PDF.svg'\n",
    "\n",
    "# Let's create two distributions\n",
    "data1 = randn(100)\n",
    "data2 = randn(100) + 2 # Off set the mean"
   ]
  },
  {
   "cell_type": "code",
   "execution_count": null,
   "metadata": {},
   "outputs": [],
   "source": [
    "# Now we can create a box plot\n",
    "sns.boxplot([data1,data2])"
   ]
  },
  {
   "cell_type": "code",
   "execution_count": null,
   "metadata": {},
   "outputs": [],
   "source": [
    "# Notice how the previous plot had outlier points, we can include those with the \"whiskers\"\n",
    "sns.boxplot([data1,data2],whis=np.inf)"
   ]
  },
  {
   "cell_type": "code",
   "execution_count": null,
   "metadata": {},
   "outputs": [],
   "source": [
    "# While box plots are great, they can sometimes not give the full picture\n",
    "\n",
    "# Violin/Viola plots can combine the simplicity of a box plot with the information of a kde plot"
   ]
  },
  {
   "cell_type": "code",
   "execution_count": null,
   "metadata": {},
   "outputs": [],
   "source": [
    "# Let's create an example where a box plot doesn't give the whole picture\n",
    "\n",
    "# Normal Distribution\n",
    "data1 = stats.norm(0,5).rvs(100)\n",
    "\n",
    "# Two gamma distributions concatenated together (Second one is inverted)\n",
    "data2 = np.concatenate([stats.gamma(5).rvs(50)-1,\n",
    "                        -1*stats.gamma(5).rvs(50)])\n",
    "\n",
    "# Box plot them\n",
    "sns.boxplot([data1,data2],whis=np.inf)"
   ]
  },
  {
   "cell_type": "code",
   "execution_count": null,
   "metadata": {},
   "outputs": [],
   "source": [
    "# From the above plots, you may think that the distributions are fairly similar\n",
    "# But lets check out what a violin plot reveals\n",
    "sns.violinplot([data1,data2])"
   ]
  },
  {
   "cell_type": "code",
   "execution_count": null,
   "metadata": {},
   "outputs": [],
   "source": [
    "# We can also change the bandwidth of the kernel used for the density fit of the violin plots if desired\n",
    "sns.violinplot(data2,bw=0.01)"
   ]
  },
  {
   "cell_type": "code",
   "execution_count": null,
   "metadata": {},
   "outputs": [],
   "source": [
    "# Much like a rug plot, we can also include the individual points, or sticks\n",
    "sns.violinplot(data1,inner=\"stick\")"
   ]
  },
  {
   "cell_type": "markdown",
   "metadata": {},
   "source": [
    "# Multiple regression PLOTS"
   ]
  },
  {
   "cell_type": "code",
   "execution_count": null,
   "metadata": {},
   "outputs": [],
   "source": [
    "# Luckily, Seaborn comes with an example dataset to use as a pandas DataFrame\n",
    "tips = sns.load_dataset(\"tips\")\n",
    "# Preview\n",
    "tips.head()"
   ]
  },
  {
   "cell_type": "code",
   "execution_count": null,
   "metadata": {},
   "outputs": [],
   "source": [
    "# Let's use lmplot() to plot the total bill versus tips\n",
    "sns.lmplot(\"total_bill\",\"tip\",tips)"
   ]
  },
  {
   "cell_type": "code",
   "execution_count": null,
   "metadata": {},
   "outputs": [],
   "source": [
    "# First we can see a scatter plot of all the points, tip vs total_bill\n",
    "# Then we see a linear regression line, which is an estimateed linear fit model to the data\n",
    "\n",
    "# WE can also specify teh confidence interval to use for the linear fit\n",
    "\n",
    "sns.lmplot(\"total_bill\",\"tip\",tips,ci=75) # 68% ci "
   ]
  },
  {
   "cell_type": "code",
   "execution_count": null,
   "metadata": {},
   "outputs": [],
   "source": [
    "# Just like before, we can use dictionaries to edit individual parts of the plot\n",
    "\n",
    "sns.lmplot(\"total_bill\", \"tip\", tips,\n",
    "           scatter_kws={\"marker\": \"o\", \"color\": \"indianred\"},\n",
    "           line_kws={\"linewidth\": 1, \"color\": \"blue\"});"
   ]
  },
  {
   "cell_type": "code",
   "execution_count": null,
   "metadata": {},
   "outputs": [],
   "source": [
    "# WE can also check out higher-order trends\n",
    "sns.lmplot(\"total_bill\", \"tip\", tips,order=4,\n",
    "           scatter_kws={\"marker\": \"o\", \"color\": \"indianred\"},\n",
    "           line_kws={\"linewidth\": 1, \"color\": \"blue\"})"
   ]
  },
  {
   "cell_type": "code",
   "execution_count": null,
   "metadata": {},
   "outputs": [],
   "source": [
    "# We can also not fit a regression if desired\n",
    "sns.lmplot(\"total_bill\", \"tip\", tips,fit_reg=False)"
   ]
  },
  {
   "cell_type": "code",
   "execution_count": null,
   "metadata": {},
   "outputs": [],
   "source": [
    "# lmplot() also works on discrete variables, such as the percentage of the tip\n",
    "\n",
    "# Create a new column for tip percentage\n",
    "tips[\"tip_pect\"]=100*(tips['tip']/tips['total_bill'])\n",
    "\n",
    "#plot\n",
    "sns.lmplot(\"size\", \"tip_pect\", tips, order=2);"
   ]
  },
  {
   "cell_type": "code",
   "execution_count": null,
   "metadata": {},
   "outputs": [],
   "source": [
    "# We can also add jitter to this\n",
    "\n",
    "\n",
    "#plot\n",
    "sns.lmplot(\"size\", \"tip_pect\", tips,x_jitter=.1);"
   ]
  },
  {
   "cell_type": "code",
   "execution_count": null,
   "metadata": {},
   "outputs": [],
   "source": [
    "# We can also estimate the tendency of each bin (size of party in this case)\n",
    "sns.lmplot(\"size\", \"tip_pect\", tips, x_estimator=np.mean);"
   ]
  },
  {
   "cell_type": "code",
   "execution_count": null,
   "metadata": {},
   "outputs": [],
   "source": [
    "# Interesting, looks like there is more variance for party sizes of 1 then 2-4\n",
    "# We can use the hue facet to automatically define subsets along a column\n",
    "\n",
    "# Plot, note the markers argument\n",
    "sns.lmplot(\"total_bill\", \"tip_pect\", tips, hue=\"sex\",markers=[\"x\",\"o\"])"
   ]
  },
  {
   "cell_type": "code",
   "execution_count": null,
   "metadata": {},
   "outputs": [],
   "source": [
    "# Does day make a difference?\n",
    "sns.lmplot(\"total_bill\", \"tip_pect\", tips, hue=\"day\")"
   ]
  },
  {
   "cell_type": "code",
   "execution_count": null,
   "metadata": {},
   "outputs": [],
   "source": [
    "# Finally it should be noted that Seabron supports LOESS model fitting\n",
    "url = 'http://en.wikipedia.org/wiki/Local_regression'\n",
    "\n",
    "sns.lmplot(\"total_bill\", \"tip_pect\", tips, lowess=True, line_kws={\"color\": 'black'});"
   ]
  },
  {
   "cell_type": "code",
   "execution_count": null,
   "metadata": {},
   "outputs": [],
   "source": [
    "# The lmplot() we've been using is actually using a lower-level function, regplot()\n",
    "\n",
    "sns.regplot(\"total_bill\",\"tip_pect\",tips)"
   ]
  },
  {
   "cell_type": "markdown",
   "metadata": {},
   "source": [
    "# Heatmaps and Cluster matches"
   ]
  },
  {
   "cell_type": "code",
   "execution_count": null,
   "metadata": {},
   "outputs": [],
   "source": [
    "# Again seaborn comes with a great dataset to play and learn with\n",
    "flight_dframe = sns.load_dataset('flights')\n",
    "\n",
    "#Preview\n",
    "flight_dframe.head()"
   ]
  },
  {
   "cell_type": "code",
   "execution_count": null,
   "metadata": {},
   "outputs": [],
   "source": [
    "# Let's pivot this dataframe do its easier to manage\n",
    "flight_dframe = flight_dframe.pivot(\"month\",\"year\",\"passengers\")\n",
    "\n",
    "#Show\n",
    "flight_dframe"
   ]
  },
  {
   "cell_type": "code",
   "execution_count": null,
   "metadata": {},
   "outputs": [],
   "source": [
    "# This dataset is now in a clear format to be dispalyed as a heatmap\n",
    "sns.heatmap(flight_dframe)"
   ]
  },
  {
   "cell_type": "code",
   "execution_count": null,
   "metadata": {},
   "outputs": [],
   "source": [
    "# We also have the option to annotate(add note) each cell\n",
    "sns.heatmap(flight_dframe,annot=True,fmt='d')"
   ]
  },
  {
   "cell_type": "code",
   "execution_count": null,
   "metadata": {},
   "outputs": [],
   "source": [
    "# seaborn will automatically try to pick the best color scheme for your dataset, whether is be diverging or converging colormap\n",
    "\n",
    "# We can choose our own 'center' for our colormap\n",
    "sns.heatmap(flight_dframe,center=flight_dframe.loc['January',1955])"
   ]
  },
  {
   "cell_type": "code",
   "execution_count": null,
   "metadata": {},
   "outputs": [],
   "source": [
    "# heatmap() can be used on an axes for a subplot to create more informative figures\n",
    "f, (axis1,axis2) = plt.subplots(2,1)\n",
    "\n",
    "yearly_flights = flight_dframe.sum()\n",
    "\n",
    "# Since yearly_flights is a weird format, we'll have to grab the values we want with a Series, then put them in a dframe\n",
    "\n",
    "years = pd.Series(yearly_flights.index.values)\n",
    "years = pd.DataFrame(years)\n",
    "\n",
    "flights = pd.Series(yearly_flights.values) \n",
    "flights = pd.DataFrame(flights)\n",
    "\n",
    "# Make the dframe and name columns\n",
    "year_dframe = pd.concat((years,flights),axis=1)\n",
    "year_dframe.columns = ['Year','Flights']\n",
    "\n",
    "\n",
    "\n",
    "# Create the bar plot on top\n",
    "sns.barplot('Year',y='Flights',data=year_dframe, ax = axis1)\n",
    "\n",
    "# Create the heatmap on bottom\n",
    "sns.heatmap(flight_dframe,cmap='Blues',ax=axis2,cbar_kws={\"orientation\": \"horizontal\"})"
   ]
  },
  {
   "cell_type": "code",
   "execution_count": null,
   "metadata": {},
   "outputs": [],
   "source": []
  }
 ],
 "metadata": {
  "kernelspec": {
   "display_name": "Python 3",
   "language": "python",
   "name": "python3"
  },
  "language_info": {
   "codemirror_mode": {
    "name": "ipython",
    "version": 3
   },
   "file_extension": ".py",
   "mimetype": "text/x-python",
   "name": "python",
   "nbconvert_exporter": "python",
   "pygments_lexer": "ipython3",
   "version": "3.7.1"
  }
 },
 "nbformat": 4,
 "nbformat_minor": 2
}
